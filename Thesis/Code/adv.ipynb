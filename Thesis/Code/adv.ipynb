{
 "cells": [
  {
   "cell_type": "code",
   "execution_count": 1,
   "metadata": {},
   "outputs": [],
   "source": [
    "import pandas as pd\n",
    "import numpy as np"
   ]
  },
  {
   "cell_type": "code",
   "execution_count": 2,
   "metadata": {},
   "outputs": [],
   "source": [
    "S = pd.read_csv('dataset_prepped')"
   ]
  },
  {
   "cell_type": "code",
   "execution_count": 3,
   "metadata": {},
   "outputs": [
    {
     "name": "stderr",
     "output_type": "stream",
     "text": [
      "C:\\Users\\alfie\\AppData\\Local\\Temp\\ipykernel_6080\\4171573495.py:2: UserWarning: Boolean Series key will be reindexed to match DataFrame index.\n",
      "  S = S[S.innings == 1][S.match_id < max_id]\n"
     ]
    }
   ],
   "source": [
    "max_id = 1178409\n",
    "S = S[S.innings == 1][S.match_id < max_id]"
   ]
  },
  {
   "cell_type": "code",
   "execution_count": 4,
   "metadata": {},
   "outputs": [],
   "source": [
    "H = pd.read_csv('../IPL_Dataset/1178409_info.csv', nrows=20, index_col=1)"
   ]
  },
  {
   "cell_type": "code",
   "execution_count": 5,
   "metadata": {},
   "outputs": [
    {
     "data": {
      "text/html": [
       "<div>\n",
       "<style scoped>\n",
       "    .dataframe tbody tr th:only-of-type {\n",
       "        vertical-align: middle;\n",
       "    }\n",
       "\n",
       "    .dataframe tbody tr th {\n",
       "        vertical-align: top;\n",
       "    }\n",
       "\n",
       "    .dataframe thead th {\n",
       "        text-align: right;\n",
       "    }\n",
       "</style>\n",
       "<table border=\"1\" class=\"dataframe\">\n",
       "  <thead>\n",
       "    <tr style=\"text-align: right;\">\n",
       "      <th></th>\n",
       "      <th>version</th>\n",
       "      <th>2.1.0</th>\n",
       "    </tr>\n",
       "  </thead>\n",
       "  <tbody>\n",
       "    <tr>\n",
       "      <th>balls_per_over</th>\n",
       "      <td>info</td>\n",
       "      <td>6</td>\n",
       "    </tr>\n",
       "    <tr>\n",
       "      <th>team</th>\n",
       "      <td>info</td>\n",
       "      <td>Mumbai Indians</td>\n",
       "    </tr>\n",
       "    <tr>\n",
       "      <th>team</th>\n",
       "      <td>info</td>\n",
       "      <td>Delhi Capitals</td>\n",
       "    </tr>\n",
       "    <tr>\n",
       "      <th>gender</th>\n",
       "      <td>info</td>\n",
       "      <td>male</td>\n",
       "    </tr>\n",
       "    <tr>\n",
       "      <th>season</th>\n",
       "      <td>info</td>\n",
       "      <td>2019</td>\n",
       "    </tr>\n",
       "    <tr>\n",
       "      <th>date</th>\n",
       "      <td>info</td>\n",
       "      <td>2019/04/18</td>\n",
       "    </tr>\n",
       "    <tr>\n",
       "      <th>event</th>\n",
       "      <td>info</td>\n",
       "      <td>Indian Premier League</td>\n",
       "    </tr>\n",
       "    <tr>\n",
       "      <th>match_number</th>\n",
       "      <td>info</td>\n",
       "      <td>34</td>\n",
       "    </tr>\n",
       "    <tr>\n",
       "      <th>venue</th>\n",
       "      <td>info</td>\n",
       "      <td>Arun Jaitley Stadium</td>\n",
       "    </tr>\n",
       "    <tr>\n",
       "      <th>city</th>\n",
       "      <td>info</td>\n",
       "      <td>Delhi</td>\n",
       "    </tr>\n",
       "    <tr>\n",
       "      <th>toss_winner</th>\n",
       "      <td>info</td>\n",
       "      <td>Mumbai Indians</td>\n",
       "    </tr>\n",
       "    <tr>\n",
       "      <th>toss_decision</th>\n",
       "      <td>info</td>\n",
       "      <td>bat</td>\n",
       "    </tr>\n",
       "    <tr>\n",
       "      <th>player_of_match</th>\n",
       "      <td>info</td>\n",
       "      <td>HH Pandya</td>\n",
       "    </tr>\n",
       "    <tr>\n",
       "      <th>umpire</th>\n",
       "      <td>info</td>\n",
       "      <td>BNJ Oxenford</td>\n",
       "    </tr>\n",
       "    <tr>\n",
       "      <th>umpire</th>\n",
       "      <td>info</td>\n",
       "      <td>NJ Llong</td>\n",
       "    </tr>\n",
       "    <tr>\n",
       "      <th>reserve_umpire</th>\n",
       "      <td>info</td>\n",
       "      <td>N Pandit</td>\n",
       "    </tr>\n",
       "    <tr>\n",
       "      <th>tv_umpire</th>\n",
       "      <td>info</td>\n",
       "      <td>AK Chaudhary</td>\n",
       "    </tr>\n",
       "    <tr>\n",
       "      <th>match_referee</th>\n",
       "      <td>info</td>\n",
       "      <td>J Srinath</td>\n",
       "    </tr>\n",
       "    <tr>\n",
       "      <th>winner</th>\n",
       "      <td>info</td>\n",
       "      <td>Mumbai Indians</td>\n",
       "    </tr>\n",
       "    <tr>\n",
       "      <th>winner_runs</th>\n",
       "      <td>info</td>\n",
       "      <td>40</td>\n",
       "    </tr>\n",
       "  </tbody>\n",
       "</table>\n",
       "</div>"
      ],
      "text/plain": [
       "                version                  2.1.0\n",
       "balls_per_over     info                      6\n",
       "team               info         Mumbai Indians\n",
       "team               info         Delhi Capitals\n",
       "gender             info                   male\n",
       "season             info                   2019\n",
       "date               info             2019/04/18\n",
       "event              info  Indian Premier League\n",
       "match_number       info                     34\n",
       "venue              info   Arun Jaitley Stadium\n",
       "city               info                  Delhi\n",
       "toss_winner        info         Mumbai Indians\n",
       "toss_decision      info                    bat\n",
       "player_of_match    info              HH Pandya\n",
       "umpire             info           BNJ Oxenford\n",
       "umpire             info               NJ Llong\n",
       "reserve_umpire     info               N Pandit\n",
       "tv_umpire          info           AK Chaudhary\n",
       "match_referee      info              J Srinath\n",
       "winner             info         Mumbai Indians\n",
       "winner_runs        info                     40"
      ]
     },
     "execution_count": 5,
     "metadata": {},
     "output_type": "execute_result"
    }
   ],
   "source": [
    "H"
   ]
  },
  {
   "cell_type": "code",
   "execution_count": 6,
   "metadata": {},
   "outputs": [
    {
     "data": {
      "text/plain": [
       "'Delhi'"
      ]
     },
     "execution_count": 6,
     "metadata": {},
     "output_type": "execute_result"
    }
   ],
   "source": [
    "H.loc['city'][1]"
   ]
  },
  {
   "cell_type": "code",
   "execution_count": 7,
   "metadata": {},
   "outputs": [],
   "source": [
    "for i in list(S.index):\n",
    "    if pd.isnull(S.loc[i,'wides']):\n",
    "        S.loc[i,'wides'] = 0\n",
    "    if pd.isnull(S.loc[i,'noballs']):\n",
    "        S.loc[i,'noballs'] = 0"
   ]
  },
  {
   "cell_type": "code",
   "execution_count": 8,
   "metadata": {},
   "outputs": [
    {
     "data": {
      "text/html": [
       "<div>\n",
       "<style scoped>\n",
       "    .dataframe tbody tr th:only-of-type {\n",
       "        vertical-align: middle;\n",
       "    }\n",
       "\n",
       "    .dataframe tbody tr th {\n",
       "        vertical-align: top;\n",
       "    }\n",
       "\n",
       "    .dataframe thead th {\n",
       "        text-align: right;\n",
       "    }\n",
       "</style>\n",
       "<table border=\"1\" class=\"dataframe\">\n",
       "  <thead>\n",
       "    <tr style=\"text-align: right;\">\n",
       "      <th></th>\n",
       "      <th>match_id</th>\n",
       "      <th>innings</th>\n",
       "      <th>over</th>\n",
       "      <th>wickets</th>\n",
       "      <th>striker</th>\n",
       "      <th>bowler</th>\n",
       "      <th>delivery</th>\n",
       "      <th>wides</th>\n",
       "      <th>noballs</th>\n",
       "      <th>batting_outcome</th>\n",
       "      <th>fielding_extras</th>\n",
       "      <th>fielding_wicket</th>\n",
       "      <th>free_hit</th>\n",
       "    </tr>\n",
       "  </thead>\n",
       "  <tbody>\n",
       "    <tr>\n",
       "      <th>0</th>\n",
       "      <td>335982</td>\n",
       "      <td>1</td>\n",
       "      <td>1</td>\n",
       "      <td>0.0</td>\n",
       "      <td>SC Ganguly</td>\n",
       "      <td>P Kumar</td>\n",
       "      <td>fair</td>\n",
       "      <td>0.0</td>\n",
       "      <td>0.0</td>\n",
       "      <td>0</td>\n",
       "      <td>1.0</td>\n",
       "      <td>False</td>\n",
       "      <td>False</td>\n",
       "    </tr>\n",
       "    <tr>\n",
       "      <th>1</th>\n",
       "      <td>335982</td>\n",
       "      <td>1</td>\n",
       "      <td>1</td>\n",
       "      <td>0.0</td>\n",
       "      <td>BB McCullum</td>\n",
       "      <td>P Kumar</td>\n",
       "      <td>fair</td>\n",
       "      <td>0.0</td>\n",
       "      <td>0.0</td>\n",
       "      <td>0</td>\n",
       "      <td>0.0</td>\n",
       "      <td>False</td>\n",
       "      <td>False</td>\n",
       "    </tr>\n",
       "    <tr>\n",
       "      <th>2</th>\n",
       "      <td>335982</td>\n",
       "      <td>1</td>\n",
       "      <td>1</td>\n",
       "      <td>0.0</td>\n",
       "      <td>BB McCullum</td>\n",
       "      <td>P Kumar</td>\n",
       "      <td>wide</td>\n",
       "      <td>1.0</td>\n",
       "      <td>0.0</td>\n",
       "      <td>0</td>\n",
       "      <td>0.0</td>\n",
       "      <td>False</td>\n",
       "      <td>False</td>\n",
       "    </tr>\n",
       "    <tr>\n",
       "      <th>3</th>\n",
       "      <td>335982</td>\n",
       "      <td>1</td>\n",
       "      <td>1</td>\n",
       "      <td>0.0</td>\n",
       "      <td>BB McCullum</td>\n",
       "      <td>P Kumar</td>\n",
       "      <td>fair</td>\n",
       "      <td>0.0</td>\n",
       "      <td>0.0</td>\n",
       "      <td>0</td>\n",
       "      <td>0.0</td>\n",
       "      <td>False</td>\n",
       "      <td>False</td>\n",
       "    </tr>\n",
       "    <tr>\n",
       "      <th>4</th>\n",
       "      <td>335982</td>\n",
       "      <td>1</td>\n",
       "      <td>1</td>\n",
       "      <td>0.0</td>\n",
       "      <td>BB McCullum</td>\n",
       "      <td>P Kumar</td>\n",
       "      <td>fair</td>\n",
       "      <td>0.0</td>\n",
       "      <td>0.0</td>\n",
       "      <td>0</td>\n",
       "      <td>0.0</td>\n",
       "      <td>False</td>\n",
       "      <td>False</td>\n",
       "    </tr>\n",
       "    <tr>\n",
       "      <th>...</th>\n",
       "      <td>...</td>\n",
       "      <td>...</td>\n",
       "      <td>...</td>\n",
       "      <td>...</td>\n",
       "      <td>...</td>\n",
       "      <td>...</td>\n",
       "      <td>...</td>\n",
       "      <td>...</td>\n",
       "      <td>...</td>\n",
       "      <td>...</td>\n",
       "      <td>...</td>\n",
       "      <td>...</td>\n",
       "      <td>...</td>\n",
       "    </tr>\n",
       "    <tr>\n",
       "      <th>172624</th>\n",
       "      <td>1136620</td>\n",
       "      <td>1</td>\n",
       "      <td>20</td>\n",
       "      <td>5.0</td>\n",
       "      <td>YK Pathan</td>\n",
       "      <td>SN Thakur</td>\n",
       "      <td>fair</td>\n",
       "      <td>0.0</td>\n",
       "      <td>0.0</td>\n",
       "      <td>0</td>\n",
       "      <td>0.0</td>\n",
       "      <td>False</td>\n",
       "      <td>False</td>\n",
       "    </tr>\n",
       "    <tr>\n",
       "      <th>172625</th>\n",
       "      <td>1136620</td>\n",
       "      <td>1</td>\n",
       "      <td>20</td>\n",
       "      <td>5.0</td>\n",
       "      <td>YK Pathan</td>\n",
       "      <td>SN Thakur</td>\n",
       "      <td>fair</td>\n",
       "      <td>0.0</td>\n",
       "      <td>0.0</td>\n",
       "      <td>1</td>\n",
       "      <td>0.0</td>\n",
       "      <td>False</td>\n",
       "      <td>False</td>\n",
       "    </tr>\n",
       "    <tr>\n",
       "      <th>172626</th>\n",
       "      <td>1136620</td>\n",
       "      <td>1</td>\n",
       "      <td>20</td>\n",
       "      <td>5.0</td>\n",
       "      <td>CR Brathwaite</td>\n",
       "      <td>SN Thakur</td>\n",
       "      <td>fair</td>\n",
       "      <td>0.0</td>\n",
       "      <td>0.0</td>\n",
       "      <td>0</td>\n",
       "      <td>0.0</td>\n",
       "      <td>False</td>\n",
       "      <td>False</td>\n",
       "    </tr>\n",
       "    <tr>\n",
       "      <th>172627</th>\n",
       "      <td>1136620</td>\n",
       "      <td>1</td>\n",
       "      <td>20</td>\n",
       "      <td>5.0</td>\n",
       "      <td>CR Brathwaite</td>\n",
       "      <td>SN Thakur</td>\n",
       "      <td>fair</td>\n",
       "      <td>0.0</td>\n",
       "      <td>0.0</td>\n",
       "      <td>6</td>\n",
       "      <td>0.0</td>\n",
       "      <td>False</td>\n",
       "      <td>False</td>\n",
       "    </tr>\n",
       "    <tr>\n",
       "      <th>172628</th>\n",
       "      <td>1136620</td>\n",
       "      <td>1</td>\n",
       "      <td>20</td>\n",
       "      <td>5.0</td>\n",
       "      <td>CR Brathwaite</td>\n",
       "      <td>SN Thakur</td>\n",
       "      <td>fair</td>\n",
       "      <td>0.0</td>\n",
       "      <td>0.0</td>\n",
       "      <td>D</td>\n",
       "      <td>0.0</td>\n",
       "      <td>False</td>\n",
       "      <td>False</td>\n",
       "    </tr>\n",
       "  </tbody>\n",
       "</table>\n",
       "<p>89473 rows × 13 columns</p>\n",
       "</div>"
      ],
      "text/plain": [
       "        match_id  innings  over  wickets        striker     bowler delivery  \\\n",
       "0         335982        1     1      0.0     SC Ganguly    P Kumar     fair   \n",
       "1         335982        1     1      0.0    BB McCullum    P Kumar     fair   \n",
       "2         335982        1     1      0.0    BB McCullum    P Kumar     wide   \n",
       "3         335982        1     1      0.0    BB McCullum    P Kumar     fair   \n",
       "4         335982        1     1      0.0    BB McCullum    P Kumar     fair   \n",
       "...          ...      ...   ...      ...            ...        ...      ...   \n",
       "172624   1136620        1    20      5.0      YK Pathan  SN Thakur     fair   \n",
       "172625   1136620        1    20      5.0      YK Pathan  SN Thakur     fair   \n",
       "172626   1136620        1    20      5.0  CR Brathwaite  SN Thakur     fair   \n",
       "172627   1136620        1    20      5.0  CR Brathwaite  SN Thakur     fair   \n",
       "172628   1136620        1    20      5.0  CR Brathwaite  SN Thakur     fair   \n",
       "\n",
       "        wides  noballs batting_outcome  fielding_extras  fielding_wicket  \\\n",
       "0         0.0      0.0               0              1.0            False   \n",
       "1         0.0      0.0               0              0.0            False   \n",
       "2         1.0      0.0               0              0.0            False   \n",
       "3         0.0      0.0               0              0.0            False   \n",
       "4         0.0      0.0               0              0.0            False   \n",
       "...       ...      ...             ...              ...              ...   \n",
       "172624    0.0      0.0               0              0.0            False   \n",
       "172625    0.0      0.0               1              0.0            False   \n",
       "172626    0.0      0.0               0              0.0            False   \n",
       "172627    0.0      0.0               6              0.0            False   \n",
       "172628    0.0      0.0               D              0.0            False   \n",
       "\n",
       "        free_hit  \n",
       "0          False  \n",
       "1          False  \n",
       "2          False  \n",
       "3          False  \n",
       "4          False  \n",
       "...          ...  \n",
       "172624     False  \n",
       "172625     False  \n",
       "172626     False  \n",
       "172627     False  \n",
       "172628     False  \n",
       "\n",
       "[89473 rows x 13 columns]"
      ]
     },
     "execution_count": 8,
     "metadata": {},
     "output_type": "execute_result"
    }
   ],
   "source": [
    "S"
   ]
  },
  {
   "cell_type": "code",
   "execution_count": 9,
   "metadata": {},
   "outputs": [],
   "source": [
    "total_runs = []\n",
    "team1 = []\n",
    "opp = []\n",
    "city = []\n",
    "tossw = []\n",
    "matches = sorted(list(set(S.match_id)))\n",
    "for idx in matches:\n",
    "    inns = pd.read_csv('../IPL_Dataset/'+ str(idx) + '.csv')\n",
    "    inns = inns[inns.innings == 1]\n",
    "    info = pd.read_csv('../IPL_Dataset/'+ str(idx) + '_info.csv', nrows=18, index_col=1)\n",
    "\n",
    "    total_runs.append(np.nansum(inns.runs_off_bat) + np.nansum(inns.extras))\n",
    "\n",
    "    team1.append(inns.loc[0, 'batting_team'])\n",
    "    opp.append(inns.loc[0, 'bowling_team'])\n",
    "\n",
    "    city.append(info.loc['city'][1])\n",
    "    tossw.append(info.loc['toss_winner'][1] == inns.loc[0, 'batting_team'])\n",
    "\n"
   ]
  },
  {
   "cell_type": "code",
   "execution_count": 10,
   "metadata": {},
   "outputs": [],
   "source": [
    "df = pd.DataFrame(matches, columns=['MatchID'])\n",
    "df['Team'] = team1\n",
    "df['Opponent'] = opp\n",
    "df['City'] = city\n",
    "df['Elected'] = tossw\n",
    "df['Runs'] = total_runs\n"
   ]
  },
  {
   "cell_type": "code",
   "execution_count": 11,
   "metadata": {},
   "outputs": [],
   "source": [
    "for i in range(len(df)):\n",
    "    if df.loc[i,'Team'] == 'Rising Pune Supergiant':\n",
    "        df.loc[i,'Team'] = 'Rising Pune Supergiants'\n",
    "    if df.loc[i,'Team'] == 'Delhi Daredevils':\n",
    "        df.loc[i,'Team'] = 'Delhi Capitals'\n",
    "    if df.loc[i,'Team'] == 'Deccan Chargers':\n",
    "        df.loc[i,'Team'] = 'Sunrisers Hyderabad'\n",
    "    if df.loc[i,'Opponent'] == 'Rising Pune Supergiant':\n",
    "        df.loc[i,'Opponent'] = 'Rising Pune Supergiants'\n",
    "    if df.loc[i,'Opponent'] == 'Delhi Daredevils':\n",
    "        df.loc[i,'Opponent'] = 'Delhi Capitals'\n",
    "    if df.loc[i,'Opponent'] == 'Deccan Chargers':\n",
    "        df.loc[i,'Opponent'] = 'Sunrisers Hyderabad'\n",
    "\n"
   ]
  },
  {
   "cell_type": "code",
   "execution_count": 12,
   "metadata": {},
   "outputs": [],
   "source": [
    "tc = {}\n",
    "for c in list(set(df.City)):\n",
    "    if type(c) == str:\n",
    "        for t in list(set(df.Team)):\n",
    "            if c in t:\n",
    "                tc[t] = c"
   ]
  },
  {
   "cell_type": "code",
   "execution_count": 13,
   "metadata": {},
   "outputs": [],
   "source": [
    "# GL, KXI, RR: rajkot, chandigarh, jaipur, \n",
    "\n",
    "tc['Gujarat Lions'] = 'Rajkot'\n",
    "tc['Kings XI Punjab'] = 'Chandigarh'\n",
    "tc['Rajasthan Royals'] = 'Jaipur'"
   ]
  },
  {
   "cell_type": "code",
   "execution_count": 14,
   "metadata": {},
   "outputs": [],
   "source": [
    "def han(team1, opp, city):\n",
    "    if tc[team1] == city:\n",
    "        return 'Home'\n",
    "    if tc[opp] == city:\n",
    "        return 'Away'\n",
    "    else:\n",
    "        return 'Neutral'"
   ]
  },
  {
   "cell_type": "code",
   "execution_count": 15,
   "metadata": {},
   "outputs": [],
   "source": [
    "df['H/A'] = list(map(han, df['Team'], df['Opponent'], df['City']))"
   ]
  },
  {
   "cell_type": "code",
   "execution_count": 16,
   "metadata": {},
   "outputs": [
    {
     "data": {
      "text/html": [
       "<div>\n",
       "<style scoped>\n",
       "    .dataframe tbody tr th:only-of-type {\n",
       "        vertical-align: middle;\n",
       "    }\n",
       "\n",
       "    .dataframe tbody tr th {\n",
       "        vertical-align: top;\n",
       "    }\n",
       "\n",
       "    .dataframe thead th {\n",
       "        text-align: right;\n",
       "    }\n",
       "</style>\n",
       "<table border=\"1\" class=\"dataframe\">\n",
       "  <thead>\n",
       "    <tr style=\"text-align: right;\">\n",
       "      <th></th>\n",
       "      <th>MatchID</th>\n",
       "      <th>Team</th>\n",
       "      <th>Opponent</th>\n",
       "      <th>City</th>\n",
       "      <th>Elected</th>\n",
       "      <th>Runs</th>\n",
       "      <th>H/A</th>\n",
       "    </tr>\n",
       "  </thead>\n",
       "  <tbody>\n",
       "    <tr>\n",
       "      <th>0</th>\n",
       "      <td>335982</td>\n",
       "      <td>Kolkata Knight Riders</td>\n",
       "      <td>Royal Challengers Bangalore</td>\n",
       "      <td>Bangalore</td>\n",
       "      <td>False</td>\n",
       "      <td>222</td>\n",
       "      <td>Away</td>\n",
       "    </tr>\n",
       "    <tr>\n",
       "      <th>1</th>\n",
       "      <td>335983</td>\n",
       "      <td>Chennai Super Kings</td>\n",
       "      <td>Kings XI Punjab</td>\n",
       "      <td>Chandigarh</td>\n",
       "      <td>True</td>\n",
       "      <td>240</td>\n",
       "      <td>Away</td>\n",
       "    </tr>\n",
       "    <tr>\n",
       "      <th>2</th>\n",
       "      <td>335984</td>\n",
       "      <td>Rajasthan Royals</td>\n",
       "      <td>Delhi Capitals</td>\n",
       "      <td>Delhi</td>\n",
       "      <td>True</td>\n",
       "      <td>129</td>\n",
       "      <td>Away</td>\n",
       "    </tr>\n",
       "    <tr>\n",
       "      <th>3</th>\n",
       "      <td>335985</td>\n",
       "      <td>Mumbai Indians</td>\n",
       "      <td>Royal Challengers Bangalore</td>\n",
       "      <td>Mumbai</td>\n",
       "      <td>True</td>\n",
       "      <td>165</td>\n",
       "      <td>Home</td>\n",
       "    </tr>\n",
       "    <tr>\n",
       "      <th>4</th>\n",
       "      <td>335986</td>\n",
       "      <td>Sunrisers Hyderabad</td>\n",
       "      <td>Kolkata Knight Riders</td>\n",
       "      <td>Kolkata</td>\n",
       "      <td>True</td>\n",
       "      <td>110</td>\n",
       "      <td>Away</td>\n",
       "    </tr>\n",
       "    <tr>\n",
       "      <th>...</th>\n",
       "      <td>...</td>\n",
       "      <td>...</td>\n",
       "      <td>...</td>\n",
       "      <td>...</td>\n",
       "      <td>...</td>\n",
       "      <td>...</td>\n",
       "      <td>...</td>\n",
       "    </tr>\n",
       "    <tr>\n",
       "      <th>724</th>\n",
       "      <td>1178404</td>\n",
       "      <td>Kolkata Knight Riders</td>\n",
       "      <td>Chennai Super Kings</td>\n",
       "      <td>Kolkata</td>\n",
       "      <td>False</td>\n",
       "      <td>161</td>\n",
       "      <td>Home</td>\n",
       "    </tr>\n",
       "    <tr>\n",
       "      <th>725</th>\n",
       "      <td>1178405</td>\n",
       "      <td>Delhi Capitals</td>\n",
       "      <td>Sunrisers Hyderabad</td>\n",
       "      <td>Hyderabad</td>\n",
       "      <td>False</td>\n",
       "      <td>155</td>\n",
       "      <td>Away</td>\n",
       "    </tr>\n",
       "    <tr>\n",
       "      <th>726</th>\n",
       "      <td>1178406</td>\n",
       "      <td>Royal Challengers Bangalore</td>\n",
       "      <td>Mumbai Indians</td>\n",
       "      <td>Mumbai</td>\n",
       "      <td>False</td>\n",
       "      <td>171</td>\n",
       "      <td>Away</td>\n",
       "    </tr>\n",
       "    <tr>\n",
       "      <th>727</th>\n",
       "      <td>1178407</td>\n",
       "      <td>Kings XI Punjab</td>\n",
       "      <td>Rajasthan Royals</td>\n",
       "      <td>Chandigarh</td>\n",
       "      <td>False</td>\n",
       "      <td>182</td>\n",
       "      <td>Home</td>\n",
       "    </tr>\n",
       "    <tr>\n",
       "      <th>728</th>\n",
       "      <td>1178408</td>\n",
       "      <td>Chennai Super Kings</td>\n",
       "      <td>Sunrisers Hyderabad</td>\n",
       "      <td>Hyderabad</td>\n",
       "      <td>True</td>\n",
       "      <td>132</td>\n",
       "      <td>Away</td>\n",
       "    </tr>\n",
       "  </tbody>\n",
       "</table>\n",
       "<p>729 rows × 7 columns</p>\n",
       "</div>"
      ],
      "text/plain": [
       "     MatchID                         Team                     Opponent  \\\n",
       "0     335982        Kolkata Knight Riders  Royal Challengers Bangalore   \n",
       "1     335983          Chennai Super Kings              Kings XI Punjab   \n",
       "2     335984             Rajasthan Royals               Delhi Capitals   \n",
       "3     335985               Mumbai Indians  Royal Challengers Bangalore   \n",
       "4     335986          Sunrisers Hyderabad        Kolkata Knight Riders   \n",
       "..       ...                          ...                          ...   \n",
       "724  1178404        Kolkata Knight Riders          Chennai Super Kings   \n",
       "725  1178405               Delhi Capitals          Sunrisers Hyderabad   \n",
       "726  1178406  Royal Challengers Bangalore               Mumbai Indians   \n",
       "727  1178407              Kings XI Punjab             Rajasthan Royals   \n",
       "728  1178408          Chennai Super Kings          Sunrisers Hyderabad   \n",
       "\n",
       "           City  Elected  Runs   H/A  \n",
       "0     Bangalore    False   222  Away  \n",
       "1    Chandigarh     True   240  Away  \n",
       "2         Delhi     True   129  Away  \n",
       "3        Mumbai     True   165  Home  \n",
       "4       Kolkata     True   110  Away  \n",
       "..          ...      ...   ...   ...  \n",
       "724     Kolkata    False   161  Home  \n",
       "725   Hyderabad    False   155  Away  \n",
       "726      Mumbai    False   171  Away  \n",
       "727  Chandigarh    False   182  Home  \n",
       "728   Hyderabad     True   132  Away  \n",
       "\n",
       "[729 rows x 7 columns]"
      ]
     },
     "execution_count": 16,
     "metadata": {},
     "output_type": "execute_result"
    }
   ],
   "source": [
    "df"
   ]
  },
  {
   "cell_type": "code",
   "execution_count": 17,
   "metadata": {},
   "outputs": [],
   "source": [
    "h = df[df['H/A'] == 'Home'].Runs.mean()"
   ]
  },
  {
   "cell_type": "code",
   "execution_count": 18,
   "metadata": {},
   "outputs": [],
   "source": [
    "n = df[df['H/A'] == 'Neutral'].Runs.mean()"
   ]
  },
  {
   "cell_type": "code",
   "execution_count": 19,
   "metadata": {},
   "outputs": [],
   "source": [
    "a = df[df['H/A'] == 'Away'].Runs.mean()"
   ]
  },
  {
   "cell_type": "code",
   "execution_count": 20,
   "metadata": {},
   "outputs": [
    {
     "data": {
      "text/plain": [
       "32.09853971334066"
      ]
     },
     "execution_count": 20,
     "metadata": {},
     "output_type": "execute_result"
    }
   ],
   "source": [
    "df[df['H/A'] == 'Away'].Runs.std()"
   ]
  },
  {
   "cell_type": "code",
   "execution_count": 21,
   "metadata": {},
   "outputs": [
    {
     "data": {
      "text/plain": [
       "157.72473867595818"
      ]
     },
     "execution_count": 21,
     "metadata": {},
     "output_type": "execute_result"
    }
   ],
   "source": [
    "df[df.Elected].Runs.mean()"
   ]
  },
  {
   "cell_type": "code",
   "execution_count": 22,
   "metadata": {},
   "outputs": [
    {
     "data": {
      "text/plain": [
       "163.23529411764707"
      ]
     },
     "execution_count": 22,
     "metadata": {},
     "output_type": "execute_result"
    }
   ],
   "source": [
    "df[df.Elected == False].Runs.mean()"
   ]
  },
  {
   "cell_type": "code",
   "execution_count": 23,
   "metadata": {},
   "outputs": [
    {
     "data": {
      "text/plain": [
       "1.0223137477253796"
      ]
     },
     "execution_count": 23,
     "metadata": {},
     "output_type": "execute_result"
    }
   ],
   "source": [
    "2*h/(a+h)"
   ]
  },
  {
   "cell_type": "code",
   "execution_count": 24,
   "metadata": {},
   "outputs": [
    {
     "data": {
      "text/plain": [
       "0.9776862522746202"
      ]
     },
     "execution_count": 24,
     "metadata": {},
     "output_type": "execute_result"
    }
   ],
   "source": [
    "2*a/(a+h)"
   ]
  },
  {
   "cell_type": "code",
   "execution_count": 25,
   "metadata": {},
   "outputs": [
    {
     "data": {
      "text/plain": [
       "287"
      ]
     },
     "execution_count": 25,
     "metadata": {},
     "output_type": "execute_result"
    }
   ],
   "source": [
    "len(df[df.Elected])"
   ]
  },
  {
   "cell_type": "code",
   "execution_count": null,
   "metadata": {},
   "outputs": [],
   "source": []
  }
 ],
 "metadata": {
  "kernelspec": {
   "display_name": "Python 3.9.10 64-bit",
   "language": "python",
   "name": "python3"
  },
  "language_info": {
   "codemirror_mode": {
    "name": "ipython",
    "version": 3
   },
   "file_extension": ".py",
   "mimetype": "text/x-python",
   "name": "python",
   "nbconvert_exporter": "python",
   "pygments_lexer": "ipython3",
   "version": "3.9.10"
  },
  "orig_nbformat": 4,
  "vscode": {
   "interpreter": {
    "hash": "11938c6bc6919ae2720b4d5011047913343b08a43b18698fd82dedb0d4417594"
   }
  }
 },
 "nbformat": 4,
 "nbformat_minor": 2
}
