{
 "cells": [
  {
   "cell_type": "code",
   "execution_count": 23,
   "metadata": {},
   "outputs": [],
   "source": [
    "import pandas as pd\n",
    "import numpy as np\n",
    "from sim import *\n",
    "import matplotlib.pyplot as plt"
   ]
  },
  {
   "cell_type": "code",
   "execution_count": 17,
   "metadata": {},
   "outputs": [],
   "source": [
    "import warnings\n",
    "warnings.filterwarnings('ignore')"
   ]
  },
  {
   "cell_type": "code",
   "execution_count": 14,
   "metadata": {},
   "outputs": [],
   "source": [
    "mimu = T20SimX(dir='upto2019\\ArrandVersion.pkl')"
   ]
  },
  {
   "cell_type": "code",
   "execution_count": 10,
   "metadata": {},
   "outputs": [],
   "source": [
    "S = pd.read_csv('dataset_prepped')\n",
    "m=sorted(list(set(S[S.match_id > 1175355].match_id)))[:20]"
   ]
  },
  {
   "cell_type": "code",
   "execution_count": 21,
   "metadata": {},
   "outputs": [],
   "source": [
    "pairs = []\n",
    "for idx in m:\n",
    "    X = S[S.innings == 1][S.match_id == idx]\n",
    "    o_max = max(X.over)\n",
    "    bowl = [list(X[X.over == o_].bowler)[0] for o_ in range(1, o_max + 1)]\n",
    "    if len(bowl) < 20:\n",
    "        bowl += ['M']*(20-len(bowl))\n",
    "    b = pd.read_csv('IPL_Dataset/' + str(idx) + '_info.csv', skiprows=21, nrows=11, header=None)\n",
    "    bat = list(b[3])\n",
    "\n",
    "    a_runs = int(np.sum(list(map(int, X[X.batting_outcome != 'D'].batting_outcome))) + X.wides.sum() + X.noballs.sum() + X.fielding_extras.sum())\n",
    "\n",
    "    s=[]\n",
    "    for h in range(1000):\n",
    "        s.append(mimu.sim_innings1('bB', bat, bowl, res='runs'))\n",
    "    s_runs = np.median(s)\n",
    "\n",
    "    pairs.append([a_runs, s_runs])\n"
   ]
  },
  {
   "cell_type": "code",
   "execution_count": 22,
   "metadata": {},
   "outputs": [
    {
     "data": {
      "text/plain": [
       "[[70, 176.0],\n",
       " [181, 171.0],\n",
       " [213, 172.0],\n",
       " [184, 164.0],\n",
       " [147, 174.0],\n",
       " [218, 169.0],\n",
       " [187, 172.0],\n",
       " [198, 161.0],\n",
       " [176, 165.0],\n",
       " [185, 159.0],\n",
       " [231, 161.0],\n",
       " [175, 172.0],\n",
       " [166, 164.0],\n",
       " [158, 172.0],\n",
       " [170, 183.0],\n",
       " [129, 156.0],\n",
       " [205, 176.0],\n",
       " [160, 165.0],\n",
       " [136, 157.0],\n",
       " [149, 176.0]]"
      ]
     },
     "execution_count": 22,
     "metadata": {},
     "output_type": "execute_result"
    }
   ],
   "source": [
    "pairs"
   ]
  },
  {
   "cell_type": "code",
   "execution_count": 34,
   "metadata": {},
   "outputs": [
    {
     "data": {
      "text/plain": [
       "Text(0, 0.5, 'Simulated Runs')"
      ]
     },
     "execution_count": 34,
     "metadata": {},
     "output_type": "execute_result"
    },
    {
     "data": {
      "image/png": "[encoded data removed]",
      "text/plain": [
       "<Figure size 720x576 with 1 Axes>"
      ]
     },
     "metadata": {
      "needs_background": "light"
     },
     "output_type": "display_data"
    }
   ],
   "source": [
    "x,y = np.array(pairs).T\n",
    "x_ = np.linspace(70, 230, 10)\n",
    "\n",
    "fig, ax = plt.subplots(figsize=(10,8))\n",
    "ax.scatter(x, y)\n",
    "ax.plot(x_,x_,color='black')\n",
    "plt.xlabel('Actual Runs')\n",
    "plt.ylabel('Simulated Runs')"
   ]
  },
  {
   "cell_type": "code",
   "execution_count": 35,
   "metadata": {},
   "outputs": [
    {
     "data": {
      "text/plain": [
       "35.192186632830875"
      ]
     },
     "execution_count": 35,
     "metadata": {},
     "output_type": "execute_result"
    }
   ],
   "source": [
    "np.std(np.array(pairs)[:,0])"
   ]
  },
  {
   "cell_type": "code",
   "execution_count": null,
   "metadata": {},
   "outputs": [],
   "source": []
  }
 ],
 "metadata": {
  "kernelspec": {
   "display_name": "Python 3.9.10 64-bit",
   "language": "python",
   "name": "python3"
  },
  "language_info": {
   "codemirror_mode": {
    "name": "ipython",
    "version": 3
   },
   "file_extension": ".py",
   "mimetype": "text/x-python",
   "name": "python",
   "nbconvert_exporter": "python",
   "pygments_lexer": "ipython3",
   "version": "3.9.10"
  },
  "orig_nbformat": 4,
  "vscode": {
   "interpreter": {
    "hash": "11938c6bc6919ae2720b4d5011047913343b08a43b18698fd82dedb0d4417594"
   }
  }
 },
 "nbformat": 4,
 "nbformat_minor": 2
}
